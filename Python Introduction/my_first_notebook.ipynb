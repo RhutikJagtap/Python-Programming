{
 "cells": [
  {
   "cell_type": "markdown",
   "id": "d5d6884a-ba40-4e3f-bcbd-b6723e0672d1",
   "metadata": {},
   "source": [
    "### Why Programming Languages ?"
   ]
  },
  {
   "cell_type": "markdown",
   "id": "5a51d916-6d8d-4202-b45d-b917b4e401c9",
   "metadata": {},
   "source": [
    "We know that computer can understand only 0's and 1's i.e Binary Language\n",
    "if we want to perform certain task then we have write certain instruction then only computer can perform task\n",
    "means we have to communicate with computer with the help of 0's and 1's only\n",
    "But it is not easy to write instuction in 0's and 1's because for human understanding 0's and 1's is very dififcult\n",
    "so we have to write code in a such language which human can understand and machine also.\n",
    "\n",
    "we know human can understand English,marathi,hindi etc.....\n",
    "these lanuages are known as High Level Language.\n",
    "But,\n",
    "computer can not Understand High-Level Language\n",
    "\n",
    "HLL: The Language which can understand by Human known as High level language.\n",
    "MLL : The language microprocessor can understand is known as Machine level language. i.e Binary"
   ]
  },
  {
   "cell_type": "markdown",
   "id": "b2016489-d1bc-4777-bc5f-4e8fd4c5efcd",
   "metadata": {},
   "source": []
  },
  {
   "cell_type": "markdown",
   "id": "b3c7e300-4d4d-4cbf-8d90-56a29cfd73af",
   "metadata": {},
   "source": [
    "### What is Python ?\n",
    "Python is Programming Language using these we can perform certain task.\n"
   ]
  },
  {
   "cell_type": "markdown",
   "id": "7766b81a-32fe-4d5e-8303-8efe646c7ae3",
   "metadata": {
    "jp-MarkdownHeadingCollapsed": true
   },
   "source": [
    "### There are two types of lanaguage\n",
    "1]compiled\n",
    "2]interpreted\n"
   ]
  },
  {
   "cell_type": "markdown",
   "id": "409dd042-953a-48d0-a8f1-6a08d036e1cf",
   "metadata": {},
   "source": [
    "### Python is interpreted programming languaguge\n",
    "\n"
   ]
  },
  {
   "cell_type": "markdown",
   "id": "033f6d4c-139c-43f1-9a4a-7d3ec857a193",
   "metadata": {},
   "source": [
    "python interpreter takes .py file and executes code line by line\n",
    "python uses the python virtual machine\n",
    "python virtual machine writeen inside c language\n",
    "these python virtual machine convert high level language into machine level language and give it to the microprocessor.\n",
    "\n"
   ]
  },
  {
   "cell_type": "code",
   "execution_count": null,
   "id": "43fc8ba2-f0ce-47cf-befc-bf4613bdd07c",
   "metadata": {},
   "outputs": [],
   "source": []
  }
 ],
 "metadata": {
  "kernelspec": {
   "display_name": "Python 3 (ipykernel)",
   "language": "python",
   "name": "python3"
  },
  "language_info": {
   "codemirror_mode": {
    "name": "ipython",
    "version": 3
   },
   "file_extension": ".py",
   "mimetype": "text/x-python",
   "name": "python",
   "nbconvert_exporter": "python",
   "pygments_lexer": "ipython3",
   "version": "3.13.9"
  },
  "widgets": {
   "application/vnd.jupyter.widget-state+json": {
    "state": {},
    "version_major": 2,
    "version_minor": 0
   }
  }
 },
 "nbformat": 4,
 "nbformat_minor": 5
}
