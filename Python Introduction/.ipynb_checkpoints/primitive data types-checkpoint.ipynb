{
 "cells": [
  {
   "cell_type": "markdown",
   "id": "01a6acb0-35b8-4d2d-acb0-1dfaff00d8d4",
   "metadata": {},
   "source": [
    "# There are 2 types of data types in python\n",
    "# 1]primitive\n",
    "   # Number\n",
    "        int\n",
    "        float\n",
    "        complex\n",
    "   # String\n",
    "        single quotes\n",
    "        double quotes\n",
    "        triple quotes\n",
    "# 2]Non primitive\n",
    "       list\n",
    "       set\n",
    "       tuple\n",
    "       dictionary\n",
    "       etc..."
   ]
  },
  {
   "cell_type": "markdown",
   "id": "a2521b4d-722e-45ea-8c57-78a764810c58",
   "metadata": {},
   "source": []
  },
  {
   "cell_type": "code",
   "execution_count": 9,
   "id": "891d805f-39ef-4aa0-9d03-935cbcec39a9",
   "metadata": {},
   "outputs": [
    {
     "name": "stdout",
     "output_type": "stream",
     "text": [
      "10\n"
     ]
    },
    {
     "data": {
      "text/plain": [
       "int"
      ]
     },
     "execution_count": 9,
     "metadata": {},
     "output_type": "execute_result"
    }
   ],
   "source": [
    "#Primitive\n",
    "#integer\n",
    "num = 10\n",
    "print(num)\n",
    "type(num)"
   ]
  },
  {
   "cell_type": "code",
   "execution_count": 11,
   "id": "7cbe4886-f118-4bab-bc34-ce0ecf333c1b",
   "metadata": {},
   "outputs": [
    {
     "name": "stdout",
     "output_type": "stream",
     "text": [
      "30000.45\n"
     ]
    },
    {
     "data": {
      "text/plain": [
       "float"
      ]
     },
     "execution_count": 11,
     "metadata": {},
     "output_type": "execute_result"
    }
   ],
   "source": [
    "#Float\n",
    "salary = 30000.45\n",
    "print(salary)\n",
    "type(salary)"
   ]
  },
  {
   "cell_type": "code",
   "execution_count": 13,
   "id": "f7a0d1a0-014b-45d9-941a-759ae4528cd4",
   "metadata": {},
   "outputs": [
    {
     "name": "stdout",
     "output_type": "stream",
     "text": [
      "(4+5j)\n"
     ]
    },
    {
     "data": {
      "text/plain": [
       "complex"
      ]
     },
     "execution_count": 13,
     "metadata": {},
     "output_type": "execute_result"
    }
   ],
   "source": [
    "#Complex number\n",
    "c = 4+5j\n",
    "#where,4 is a real part\n",
    "#5j is imaginary part\n",
    "print(c)\n",
    "type(c)"
   ]
  },
  {
   "cell_type": "code",
   "execution_count": 16,
   "id": "53686a0b-a71c-4919-98d8-bedcb8b49c19",
   "metadata": {},
   "outputs": [
    {
     "name": "stdout",
     "output_type": "stream",
     "text": [
      "Rhutik\n"
     ]
    },
    {
     "data": {
      "text/plain": [
       "str"
      ]
     },
     "execution_count": 16,
     "metadata": {},
     "output_type": "execute_result"
    }
   ],
   "source": [
    "#String\n",
    "name = \"Rhutik\"\n",
    "print(name)\n",
    "type(name)"
   ]
  },
  {
   "cell_type": "markdown",
   "id": "6891e190-dfbd-4b5b-8779-1ea2d9bd27dc",
   "metadata": {},
   "source": [
    "#There are 4 ways to write String\n",
    "1]\" \"\n",
    "2]' '\n",
    "3]'''      \n",
    "\n",
    "'''\n",
    "4]\"\"\"\n",
    "\n",
    "\"\"\""
   ]
  },
  {
   "cell_type": "code",
   "execution_count": null,
   "id": "f8fa867c-a1fe-4eb3-b3c4-3fc157a68b57",
   "metadata": {},
   "outputs": [],
   "source": []
  }
 ],
 "metadata": {
  "kernelspec": {
   "display_name": "Python 3 (ipykernel)",
   "language": "python",
   "name": "python3"
  },
  "language_info": {
   "codemirror_mode": {
    "name": "ipython",
    "version": 3
   },
   "file_extension": ".py",
   "mimetype": "text/x-python",
   "name": "python",
   "nbconvert_exporter": "python",
   "pygments_lexer": "ipython3",
   "version": "3.13.9"
  },
  "widgets": {
   "application/vnd.jupyter.widget-state+json": {
    "state": {},
    "version_major": 2,
    "version_minor": 0
   }
  }
 },
 "nbformat": 4,
 "nbformat_minor": 5
}
